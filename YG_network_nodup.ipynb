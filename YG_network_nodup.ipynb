{
  "nbformat": 4,
  "nbformat_minor": 0,
  "metadata": {
    "colab": {
      "name": "YG_network_nodup.ipynb",
      "provenance": [],
      "include_colab_link": true
    },
    "kernelspec": {
      "name": "python3",
      "display_name": "Python 3"
    }
  },
  "cells": [
    {
      "cell_type": "markdown",
      "metadata": {
        "id": "view-in-github",
        "colab_type": "text"
      },
      "source": [
        "<a href=\"https://colab.research.google.com/github/Nhorning/Congressional_Survival/blob/master/YG_network_nodup.ipynb\" target=\"_parent\"><img src=\"https://colab.research.google.com/assets/colab-badge.svg\" alt=\"Open In Colab\"/></a>"
      ]
    },
    {
      "cell_type": "code",
      "metadata": {
        "id": "r670u6F8r2ns",
        "colab_type": "code",
        "colab": {}
      },
      "source": [
        "#install and upgrade thingy to link google sheets and colab notebook. instructions: https://www.pingshiuanchua.com/blog/post/intro-to-colaboratory-and-linking-it-to-google-sheets\n",
        "!pip install --upgrade -q pygsheets"
      ],
      "execution_count": 0,
      "outputs": []
    },
    {
      "cell_type": "code",
      "metadata": {
        "id": "A-8JST3wsu5W",
        "colab_type": "code",
        "colab": {}
      },
      "source": [
        "#authorize link to google sheet\n",
        "import google.auth\n",
        "from google.colab import auth\n",
        "\n",
        "auth.authenticate_user()\n",
        "import pygsheets\n",
        "credentials, _ = google.auth.default()\n",
        "gc = pygsheets.client.Client(credentials)"
      ],
      "execution_count": 0,
      "outputs": []
    },
    {
      "cell_type": "code",
      "metadata": {
        "id": "6Z8JRYPcuxDb",
        "colab_type": "code",
        "colab": {}
      },
      "source": [
        "#open up that google sheet!  replace this \\/ with the end of the link to your sheet!  instructions here: https://www.pingshiuanchua.com/blog/post/overpower-your-google-sheets-with-python\n",
        "sheet = gc.open_by_key('1JnYvTC3a7zm7wufNvmialW2iUgdSpo1c8dxEUHS4FxA')"
      ],
      "execution_count": 0,
      "outputs": []
    },
    {
      "cell_type": "code",
      "metadata": {
        "id": "cHYRXZo1wpP7",
        "colab_type": "code",
        "outputId": "61fee19c-105c-428b-fb28-7e7fb5094a9d",
        "colab": {
          "base_uri": "https://localhost:8080/",
          "height": 382
        }
      },
      "source": [
        "#Make it a data frame \n",
        "worksheet = sheet.worksheet_by_title('Form Responses 1')\n",
        "df = worksheet.get_as_df()\n",
        "df.info()"
      ],
      "execution_count": 0,
      "outputs": [
        {
          "output_type": "stream",
          "text": [
            "<class 'pandas.core.frame.DataFrame'>\n",
            "RangeIndex: 44 entries, 0 to 43\n",
            "Data columns (total 16 columns):\n",
            "Timestamp                                   44 non-null object\n",
            "Type of Work                                44 non-null object\n",
            "Details                                     44 non-null object\n",
            "Name or Psuedonym                           44 non-null object\n",
            "Organization                                44 non-null object\n",
            "Website                                     44 non-null object\n",
            "Phone                                       44 non-null object\n",
            "The 5-Digit Zipcode Where You Are Active    44 non-null int64\n",
            "Needs                                       44 non-null object\n",
            "Thoughts                                    44 non-null object\n",
            "Yang Gang?                                  44 non-null object\n",
            "Email                                       36 non-null object\n",
            "Logo                                        3 non-null object\n",
            "                                            3 non-null object\n",
            "Latitude                                    3 non-null float64\n",
            "Longitude                                   3 non-null float64\n",
            "dtypes: float64(2), int64(1), object(13)\n",
            "memory usage: 5.6+ KB\n"
          ],
          "name": "stdout"
        }
      ]
    },
    {
      "cell_type": "code",
      "metadata": {
        "id": "ZoZR3Nqixiy7",
        "colab_type": "code",
        "outputId": "e397bef2-596e-49f7-8264-fa42f0156e70",
        "colab": {
          "base_uri": "https://localhost:8080/",
          "height": 69
        }
      },
      "source": [
        "\n",
        "#find entries with no e-mail\n",
        "notblank = [True if x else False for x in df.Email]\n",
        "#replace those entries with their phone number (let's notfor now)\n",
        "#df.loc[noemail,'Email'] = df.loc[noemail,'Phone']\n",
        "#df['Email'] = [str(x)+'@noemail.com' if type(x) == int else x for x in df.Email]\n",
        "\n",
        "#make all e-mails lowercase to eliminate capitalization issues.\n",
        "df['Email'] = df.Email.apply(lambda x: x.lower() if x else x)\n",
        "\n",
        "#find ze duplicate emails - don't flag the latest entry as duplicate.\n",
        "dups = df.Email.duplicated(keep='last')\n",
        "\n",
        "#subtract blank entries from the list of dups\n",
        "dups = dups & notblank\n",
        "\n",
        "#print the number of dups\n",
        "print('found', dups.sum(), 'duplicate emails')\n",
        "\n",
        "#print what is a duplicate\n",
        "df.loc[dups,:].Email\n",
        "\n"
      ],
      "execution_count": 0,
      "outputs": [
        {
          "output_type": "stream",
          "text": [
            "found 1 duplicate emails\n"
          ],
          "name": "stdout"
        },
        {
          "output_type": "execute_result",
          "data": {
            "text/plain": [
              "4    fullerjaeson@gmail.com\n",
              "Name: Email, dtype: object"
            ]
          },
          "metadata": {
            "tags": []
          },
          "execution_count": 103
        }
      ]
    },
    {
      "cell_type": "code",
      "metadata": {
        "id": "EN5S8h2bzLOP",
        "colab_type": "code",
        "outputId": "d07f71a9-2bce-488b-dbb0-f65db69039a0",
        "colab": {
          "base_uri": "https://localhost:8080/",
          "height": 382
        }
      },
      "source": [
        "#remove the duplicate e-mails (filter by everything that is NOT a dup)\n",
        "nodup_df = df.loc[~dups,:]\n",
        "nodup_df.info()"
      ],
      "execution_count": 0,
      "outputs": [
        {
          "output_type": "stream",
          "text": [
            "<class 'pandas.core.frame.DataFrame'>\n",
            "Int64Index: 43 entries, 0 to 43\n",
            "Data columns (total 16 columns):\n",
            "Timestamp                                   43 non-null object\n",
            "Type of Work                                43 non-null object\n",
            "Details                                     43 non-null object\n",
            "Name or Psuedonym                           43 non-null object\n",
            "Organization                                43 non-null object\n",
            "Website                                     43 non-null object\n",
            "Phone                                       43 non-null object\n",
            "The 5-Digit Zipcode Where You Are Active    43 non-null int64\n",
            "Needs                                       43 non-null object\n",
            "Thoughts                                    43 non-null object\n",
            "Yang Gang?                                  43 non-null object\n",
            "Email                                       35 non-null object\n",
            "Logo                                        3 non-null object\n",
            "                                            3 non-null object\n",
            "Latitude                                    3 non-null float64\n",
            "Longitude                                   3 non-null float64\n",
            "dtypes: float64(2), int64(1), object(13)\n",
            "memory usage: 5.7+ KB\n"
          ],
          "name": "stdout"
        }
      ]
    },
    {
      "cell_type": "code",
      "metadata": {
        "id": "hswecAKq00w8",
        "colab_type": "code",
        "colab": {}
      },
      "source": [
        "#Lets dump it into a second worksheet so we don't risk wiping all the data...\n",
        "\n",
        "#use the second worksheet\n",
        "try: \n",
        "  second_worksheet = sheet.worksheet_by_title('Form Repsponses No Duplicates')\n",
        "except:\n",
        "  #if there isn't one add it and try again\n",
        "  sheet.add_worksheet('Form Repsponses No Duplicates')\n",
        "  second_worksheet = sheet.worksheet_by_title('Form Repsponses No Duplicates')\n",
        "\n",
        "#clear the second worksheet\n",
        "second_worksheet.clear(start = 'A1')"
      ],
      "execution_count": 0,
      "outputs": []
    },
    {
      "cell_type": "code",
      "metadata": {
        "id": "4JWMhEYS43Ib",
        "colab_type": "code",
        "colab": {}
      },
      "source": [
        "#dump the non-duplicate sheet in - Ta Da!\n",
        "second_worksheet.set_dataframe(nodup_df, start = 'A1', nan = '')"
      ],
      "execution_count": 0,
      "outputs": []
    },
    {
      "cell_type": "code",
      "metadata": {
        "id": "V8Heb7z25pAI",
        "colab_type": "code",
        "colab": {}
      },
      "source": [
        ""
      ],
      "execution_count": 0,
      "outputs": []
    }
  ]
}