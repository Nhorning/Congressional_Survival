{
 "cells": [
  {
   "cell_type": "markdown",
   "metadata": {},
   "source": [
    "## Import Data"
   ]
  },
  {
   "cell_type": "code",
   "execution_count": 1,
   "metadata": {},
   "outputs": [
    {
     "name": "stdout",
     "output_type": "stream",
     "text": [
      "averages.csv\r\n",
      "fivethirtyeight_partisan_lean_DISTRICTS.csv\r\n",
      "fivethirtyeight_partisan_lean_STATES.csv\r\n",
      "vote_predictions.csv\r\n"
     ]
    }
   ],
   "source": [
    "#list the data\n",
    "!ls Data"
   ]
  },
  {
   "cell_type": "code",
   "execution_count": 2,
   "metadata": {},
   "outputs": [
    {
     "name": "stdout",
     "output_type": "stream",
     "text": [
      "Capstone Project Proposal - 2.pdf  Data Cleaning.ipynb\t   README.md\r\n",
      "Data\t\t\t\t   PROPUBLICA_API_KEY.TXT\r\n"
     ]
    }
   ],
   "source": [
    "!ls"
   ]
  },
  {
   "cell_type": "code",
   "execution_count": 3,
   "metadata": {},
   "outputs": [
    {
     "name": "stdout",
     "output_type": "stream",
     "text": [
      "<class 'str'>\n"
     ]
    }
   ],
   "source": [
    "#Load ProPublica API key without exposing it to github. Request one yourself. They're free.\n",
    "APIfile = open('./PROPUBLICA_API_KEY.TXT',)\n",
    "APIkey = APIfile.read().replace('\\n', '')\n",
    "print(type(APIkey))\n",
    "#print(APIkey)"
   ]
  },
  {
   "cell_type": "code",
   "execution_count": 52,
   "metadata": {},
   "outputs": [
    {
     "name": "stdout",
     "output_type": "stream",
     "text": [
      "Successful Connection!\n",
      "dict_keys(['status', 'copyright', 'results'])\n",
      "status: OK\n",
      "no. results: 20\n"
     ]
    }
   ],
   "source": [
    "#API request function! \n",
    "import requests\n",
    "\n",
    "#create API key\n",
    "headers = {'X-API-Key': APIkey}\n",
    "\n",
    "#load status codes from API documentation(https://projects.propublica.org/api-docs/congress-api/#errors) into dictionary\n",
    "#status_codes = {\n",
    "#    200:'Successful Connection!',\n",
    "#    400:'Bad Request – Your request is improperly formed',\n",
    "#    403:'Forbidden – Your request did not include an authorization header',\n",
    "#    404:'Not Found – The specified record(s) could not be found',\n",
    "#    406:'Not Acceptable – You requested a format that isn’t json or xml',\n",
    "#    500:'Internal Server Error – We had a problem with our server. Try again later',\n",
    "#    503:'Service Unavailable – The service is currently not working. Please try again later'\n",
    "#    }\n",
    "\n",
    "#load base url and test endpoint\n",
    "url = 'https://api.propublica.org/congress/v1/'\n",
    "test_endpoint = '/members/new.json'\n",
    "\n",
    "def API_Request(end_point, verbose=True):\n",
    "#send a get request to restful API, print status and return response as a dictionary\n",
    "    response = requests.get(url+end_point, headers=headers)\n",
    "    #print the response status\n",
    "    try:\n",
    "        print(status_codes[response.status_code])\n",
    "    except: \n",
    "        print('API Failure, unknown status code: '+repsonse.status_code)\n",
    " \n",
    "    return response.json()\n",
    "\n",
    "#test that the API is working. \n",
    "new_members = API_Request(test_endpoint)\n",
    "print(members.keys()) # When the API works this should give the list of attributes per member\n",
    "print('status:', new_members['status'])\n",
    "print('no. results:', new_members['results'][0]['num_results'])"
   ]
  },
  {
   "cell_type": "code",
   "execution_count": 35,
   "metadata": {},
   "outputs": [
    {
     "name": "stdout",
     "output_type": "stream",
     "text": [
      "dict_keys(['id', 'api_uri', 'first_name', 'middle_name', 'last_name', 'suffix', 'party', 'chamber', 'state', 'start_date'])\n"
     ]
    }
   ],
   "source": [
    "#print what type of data we can get for each new member\n",
    "new_members_data = new_members['results'][0]['members']\n",
    "print(new_members_data[0].keys())\n"
   ]
  },
  {
   "cell_type": "code",
   "execution_count": 53,
   "metadata": {},
   "outputs": [
    {
     "name": "stdout",
     "output_type": "stream",
     "text": [
      "Rick Scott: R\n",
      "Michael San Nicolas: D\n",
      "Jared Golden: D\n",
      "Martha McSally: R\n",
      "Mitt Romney: R\n",
      "Joshua Hawley: R\n",
      "Mike Braun: R\n",
      "Carol Miller: R\n",
      "Bryan Steil: R\n",
      "Kim Schrier: D\n",
      "Jennifer Wexton: D\n",
      "Abigail Spanberger: D\n",
      "Ben Cline: R\n",
      "Denver Riggleman: R\n",
      "Elaine Luria: D\n",
      "Ben McAdams: D\n",
      "Colin Allred: D\n",
      "Sylvia Garcia: D\n",
      "Chip Roy: R\n",
      "Veronica Escobar: D\n"
     ]
    }
   ],
   "source": [
    "#list some data for 20 members:\n",
    "for member in new_members_data:\n",
    "    print(member['first_name'], member['last_name']+':', member['party'])"
   ]
  },
  {
   "cell_type": "code",
   "execution_count": null,
   "metadata": {
    "collapsed": true
   },
   "outputs": [],
   "source": [
    "#Let's do some DATA SCIENCE! "
   ]
  }
 ],
 "metadata": {
  "kernelspec": {
   "display_name": "Python 3",
   "language": "python",
   "name": "python3"
  },
  "language_info": {
   "codemirror_mode": {
    "name": "ipython",
    "version": 3
   },
   "file_extension": ".py",
   "mimetype": "text/x-python",
   "name": "python",
   "nbconvert_exporter": "python",
   "pygments_lexer": "ipython3",
   "version": "3.6.3"
  }
 },
 "nbformat": 4,
 "nbformat_minor": 2
}
