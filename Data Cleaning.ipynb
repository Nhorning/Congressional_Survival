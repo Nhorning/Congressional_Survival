{
 "cells": [
  {
   "cell_type": "markdown",
   "metadata": {},
   "source": [
    "## Import Data"
   ]
  },
  {
   "cell_type": "code",
   "execution_count": 1,
   "metadata": {},
   "outputs": [
    {
     "name": "stdout",
     "output_type": "stream",
     "text": [
      "averages.csv\r\n",
      "fivethirtyeight_partisan_lean_DISTRICTS.csv\r\n",
      "fivethirtyeight_partisan_lean_STATES.csv\r\n",
      "vote_predictions.csv\r\n"
     ]
    }
   ],
   "source": [
    "#list the data\n",
    "!ls Data"
   ]
  },
  {
   "cell_type": "code",
   "execution_count": 2,
   "metadata": {},
   "outputs": [
    {
     "name": "stdout",
     "output_type": "stream",
     "text": [
      "Capstone Project Proposal - 2.pdf  Data Cleaning.ipynb\t   README.md\r\n",
      "Data\t\t\t\t   PROPUBLICA_API_KEY.TXT\r\n"
     ]
    }
   ],
   "source": [
    "!ls"
   ]
  },
  {
   "cell_type": "code",
   "execution_count": 3,
   "metadata": {},
   "outputs": [
    {
     "name": "stdout",
     "output_type": "stream",
     "text": [
      "<class 'str'>\n"
     ]
    }
   ],
   "source": [
    "#Load ProPublica API key without exposing it to github. Request one yourself. They're free.\n",
    "APIfile = open('./PROPUBLICA_API_KEY.TXT',)\n",
    "APIkey = APIfile.read().replace('\\n', '')\n",
    "print(type(APIkey))\n",
    "#print(APIkey)"
   ]
  },
  {
   "cell_type": "code",
   "execution_count": 4,
   "metadata": {},
   "outputs": [
    {
     "name": "stdout",
     "output_type": "stream",
     "text": [
      "500\n",
      "b'{\"message\":null}'\n",
      "dict_keys(['message'])\n"
     ]
    }
   ],
   "source": [
    "#test to make sure API is running\n",
    "import requests\n",
    "\n",
    "headers = {'X-API-Key': APIkey}\n",
    "\n",
    "response = requests.get('https://api.propublica.org/congress/v1/155/senate/members.json', headers=headers)\n",
    "print(response.status_code)\n",
    "print(response.content)\n",
    "members = response.json()\n",
    "print(members.keys()) # When the API works this should give the list of attributes per member"
   ]
  },
  {
   "cell_type": "code",
   "execution_count": null,
   "metadata": {
    "collapsed": true
   },
   "outputs": [],
   "source": []
  },
  {
   "cell_type": "code",
   "execution_count": null,
   "metadata": {
    "collapsed": true
   },
   "outputs": [],
   "source": []
  }
 ],
 "metadata": {
  "kernelspec": {
   "display_name": "Python 3",
   "language": "python",
   "name": "python3"
  },
  "language_info": {
   "codemirror_mode": {
    "name": "ipython",
    "version": 3
   },
   "file_extension": ".py",
   "mimetype": "text/x-python",
   "name": "python",
   "nbconvert_exporter": "python",
   "pygments_lexer": "ipython3",
   "version": "3.6.3"
  }
 },
 "nbformat": 4,
 "nbformat_minor": 2
}
